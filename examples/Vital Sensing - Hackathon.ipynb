{
 "cells": [
  {
   "cell_type": "markdown",
   "id": "d2220210",
   "metadata": {},
   "source": [
    "# Radar Data Streaming and Pre-Processing"
   ]
  },
  {
   "cell_type": "markdown",
   "id": "c04ff8d0",
   "metadata": {},
   "source": [
    "### This notebook demonstrates how to read the data from the radar using python wrapper for Infineon Radar SDK"
   ]
  },
  {
   "cell_type": "markdown",
   "id": "e75d2a7f",
   "metadata": {},
   "source": [
    "#### Importing required libraries \n",
    "\n",
    "    - ifxdaq --> is the python wrapper for Radar SDK\n",
    "    - processing --> is python module for basic processing to get the phase information from the radar signal\n",
    "    "
   ]
  },
  {
   "cell_type": "code",
   "execution_count": 1,
   "id": "9955721e",
   "metadata": {},
   "outputs": [],
   "source": [
    "import ifxdaq\n",
    "import processing\n",
    "import numpy as np\n",
    "from fft import range_doppler_fft\n",
    "#print(ifxdaq.__version__)\n",
    "from ifxdaq.sensor.radar_ifx import RadarIfxAvian\n",
    "import matplotlib.pyplot as plt\n",
    "from scipy.fft import fft, ifft\n",
    "from numpy import savetxt\n",
    "from sklearn import svm\n",
    "import scipy.io.wavfile\n",
    "import scipy.signal\n",
    "import matplotlib.pyplot as plt\n",
    "from numpy import genfromtxt\n",
    "from sklearn.model_selection import train_test_split\n",
    "from sklearn import metrics\n",
    "from filterpy.kalman import KalmanFilter\n",
    "from filterpy.common import Q_discrete_white_noise\n",
    "import pandas as pd\n",
    "import seaborn\n",
    "import sklearn\n",
    "from sklearn.preprocessing import StandardScaler \n",
    "import warnings\n",
    "import tensorflow as tf\n",
    "import pickle\n",
    "from sklearn.metrics import confusion_matrix, accuracy_score\n",
    "from keras.models import model_from_json\n",
    "from scipy import signal\n",
    "from scipy.signal import find_peaks\n",
    "warnings.filterwarnings('ignore')"
   ]
  },
  {
   "cell_type": "code",
   "execution_count": 15,
   "id": "39466a80-c8fc-4a69-af19-8308f382a0ce",
   "metadata": {},
   "outputs": [
    {
     "data": {
      "text/plain": [
       "['builtins',\n",
       " 'builtins',\n",
       " 'ifxdaq',\n",
       " 'processing',\n",
       " 'numpy',\n",
       " 'matplotlib.pyplot',\n",
       " 'sklearn.svm',\n",
       " 'scipy',\n",
       " 'sklearn.metrics',\n",
       " 'pandas',\n",
       " 'seaborn',\n",
       " 'sklearn',\n",
       " 'warnings',\n",
       " 'tensorflow',\n",
       " 'pickle',\n",
       " 'scipy.signal',\n",
       " 'types',\n",
       " 'pkg_resources']"
      ]
     },
     "execution_count": 15,
     "metadata": {},
     "output_type": "execute_result"
    }
   ],
   "source": [
    "import types\n",
    "def imports():\n",
    "    for name, val in globals().items():\n",
    "        if isinstance(val, types.ModuleType):\n",
    "            yield val.__name__\n",
    "list(imports())"
   ]
  },
  {
   "cell_type": "markdown",
   "id": "7cfec634",
   "metadata": {},
   "source": [
    "#### In the folder 'radar_configs' you find radar configuration parameters. It contains radar parameters :\n",
    "\n",
    "    - transmit power level\n",
    "    - start/end frequency\n",
    "    - sampling rate\n",
    "    - # of chirps per frame\n",
    "    - # of samples per chirp\n",
    "    - # of transmit/receive antennas\n",
    "    - MIMO mode selection"
   ]
  },
  {
   "cell_type": "code",
   "execution_count": 2,
   "id": "264b965d",
   "metadata": {},
   "outputs": [],
   "source": [
    "config_file = \"radar_configs/RadarIfxBGT60.json\"\n",
    "raw_data = []"
   ]
  },
  {
   "cell_type": "markdown",
   "id": "9e8d5e71",
   "metadata": {},
   "source": [
    "#### the next code block initiliaze the radar with set configuration and loop through the continuous frames; when it  reaches 5000 frames which is 5 second data according to our set configuration, we process it to get the phase information out of it."
   ]
  },
  {
   "cell_type": "code",
   "execution_count": 3,
   "id": "7ce74382",
   "metadata": {},
   "outputs": [],
   "source": [
    "def fetch_data(time_ms):\n",
    "    raw_data    = []\n",
    "    with RadarIfxAvian(config_file) as device:                             # Initialize the radar with configurations\n",
    "        for i_frame, frame in enumerate(device):                           # Loop through the frames coming from the radar\n",
    "            raw_data.append(np.squeeze(frame['radar'].data/(4095.0)))      # Dividing by 4095.0 to scale the data\n",
    "            \n",
    "            if(len(raw_data) > time_ms-1 and len(raw_data) % time_ms == 0):        # 5000 is the number of frames. which corresponds to 5seconds\n",
    "                data = np.swapaxes(np.asarray(raw_data), 0, 1)\n",
    "                \n",
    "                phases, abses, centers, radii = processing.do_processing(data)       # preprocessing to get the phase information\n",
    "                phases              = np.mean(phases, axis=0)\n",
    "                \n",
    "                range_idx, range_data = processing.processing_rangeData(data)\n",
    "                break\n",
    "                \n",
    "    return phases, abses, data, raw_data, range_data, range_idx*7.5, centers, radii"
   ]
  },
  {
   "cell_type": "code",
   "execution_count": 4,
   "id": "1aa800d3-8d45-4a95-9eeb-bc9351abe5e5",
   "metadata": {},
   "outputs": [],
   "source": [
    "def loading_model_parameters():\n",
    "    # loading the trained model standard scaler parameters\n",
    "    scaler = pickle.load(open('scaler.pkl','rb'))    \n",
    "\n",
    "    # loading the trained model PCA parameters\n",
    "    pca = pickle.load(open('pca_req.pkl','rb'))      \n",
    "\n",
    "    # loading the ann model parameters\n",
    "    file = open('model.json', 'r')\n",
    "    loaded  = file.read()\n",
    "    file.close()\n",
    "    ann_model = model_from_json(loaded)\n",
    "    ann_model.load_weights(\"model.h5\")\n",
    "\n",
    "    # loading the radar configurations\n",
    "    config_file = \"radar_configs/RadarIfxBGT60.json\"\n",
    "\n",
    "    return scaler, pca, ann_model\n"
   ]
  },
  {
   "cell_type": "code",
   "execution_count": 5,
   "id": "0a7e52f2-fb44-4911-b56b-1ddb1609ed37",
   "metadata": {},
   "outputs": [],
   "source": [
    "def detect_state(phases_data):\n",
    "    '''checking the state of the person : Anxious and Rest'''\n",
    "    sc,pc,ann_model = loading_model_parameters()\n",
    "    scaled_data = sc.transform(np.atleast_2d(phases_data)) #.T\n",
    "    test_pca = pc.transform(scaled_data)\n",
    "    y_pred=ann_model.predict(test_pca)\n",
    "\n",
    "    if(y_pred>=0.5):\n",
    "        print(\"Anxious\")\n",
    "    else:\n",
    "        print(\"Rest\")\n",
    "\n",
    "    return None"
   ]
  },
  {
   "cell_type": "code",
   "execution_count": 6,
   "id": "fea656f1-a6ea-4327-ad0d-d3686615b802",
   "metadata": {},
   "outputs": [],
   "source": [
    "def get_vitals(phases_data):\n",
    "    displacement = (0.005/(4*np.pi))*phases_data\n",
    "\n",
    "  # band pass filter for breathrate\n",
    "    sos_b = signal.butter(6, (0.2/500,0.5/500), 'band', fs=1, output='sos')\n",
    "    filtered_b = signal.sosfilt(sos_b, displacement)\n",
    "    plt.xlabel('Time (ms)')\n",
    "    plt.ylabel('Disturbance (Zero Mean)')\n",
    "    plt.title(\"Breathing Rate\")\n",
    "    plt.plot(filtered_b)\n",
    "    plt.show()\n",
    "    peaks_b,_= find_peaks(filtered_b, prominence=(0.0005, None))\n",
    "    numpeaks_b=len(peaks_b)\n",
    "    breathrate=numpeaks_b*6\n",
    "\n",
    "  # band pass filter for heartrate\n",
    "    sos_h = signal.butter(6, (0.5/500,2/500), 'band', fs=1, output='sos')\n",
    "    filtered_h = signal.sosfilt(sos_h, displacement)\n",
    "    plt.xlabel('Time (ms)')\n",
    "    plt.ylabel('Disturbance (Zero Mean)')\n",
    "    plt.title(\"Heart Rate\")\n",
    "    plt.plot(filtered_h)\n",
    "    plt.show()\n",
    "    peaks_h,_= find_peaks(filtered_h, prominence=(0.00020,None))\n",
    "    numpeaks_h=len(peaks_h)\n",
    "    heartrate=numpeaks_h*6\n",
    "  \n",
    "    return breathrate, heartrate"
   ]
  },
  {
   "cell_type": "code",
   "execution_count": 7,
   "id": "bf9336a4-2485-4e9e-8c09-d31fbd1a7f9d",
   "metadata": {},
   "outputs": [
    {
     "data": {
      "text/plain": [
       "'\\nfile_name_1 = \\'stationary.csv\\'\\nfile_name_2 = \\'moving.csv\\'\\nstationary_data = genfromtxt(file_name_1, delimiter=\\',\\')\\nmoving_data = genfromtxt(file_name_2, delimiter=\\',\\')\\n\\ntrain_x = np.concatenate((stationary_data, moving_data), axis =0)\\ntrain_y = np.ravel(np.concatenate((np.full((120,1),0), np.full((120,1),1)) , axis=0))\\n\\nx_train, x_test, y_train, y_test = train_test_split(train_x, train_y, test_size=0.15) # 85% training and 15% test\\n\\nclf = svm.SVC(kernel=\\'linear\\', degree=6)\\nclf.fit(x_train, y_train)\\n\\nfilename = \\'SVM.sav\\'\\npickle.dump(clf, open(filename, \\'wb\\'))\\n\\nsvm_result = clf.predict(x_test)\\nprint(\"Accuracy:\",metrics.accuracy_score(y_test, svm_result))\\n'"
      ]
     },
     "execution_count": 7,
     "metadata": {},
     "output_type": "execute_result"
    }
   ],
   "source": [
    "'''\n",
    "file_name_1 = 'stationary.csv'\n",
    "file_name_2 = 'moving.csv'\n",
    "stationary_data = genfromtxt(file_name_1, delimiter=',')\n",
    "moving_data = genfromtxt(file_name_2, delimiter=',')\n",
    "\n",
    "train_x = np.concatenate((stationary_data, moving_data), axis =0)\n",
    "train_y = np.ravel(np.concatenate((np.full((120,1),0), np.full((120,1),1)) , axis=0))\n",
    "\n",
    "x_train, x_test, y_train, y_test = train_test_split(train_x, train_y, test_size=0.15) # 85% training and 15% test\n",
    "\n",
    "clf = svm.SVC(kernel='linear', degree=6)\n",
    "clf.fit(x_train, y_train)\n",
    "\n",
    "filename = 'SVM.sav'\n",
    "pickle.dump(clf, open(filename, 'wb'))\n",
    "\n",
    "svm_result = clf.predict(x_test)\n",
    "print(\"Accuracy:\",metrics.accuracy_score(y_test, svm_result))\n",
    "'''"
   ]
  },
  {
   "cell_type": "code",
   "execution_count": 8,
   "id": "abc541a1-dd85-4702-9d27-5f34a5a3b0f8",
   "metadata": {},
   "outputs": [],
   "source": [
    "#Movement Detection\n",
    "global phases, heart_rate, breathing_rate\n",
    "heart_rate = 0\n",
    "breathing_rate = 0\n",
    "def motion_detection():\n",
    "    global phases\n",
    "    phases, abses, data, raw_data, range_data, range_idx, centers, radii = fetch_data(10000) #5000\n",
    "    \n",
    "    x_rdi = range_doppler_fft(data[:,:5000,:])\n",
    "    temp_1 = np.sum(np.abs(np.mean(x_rdi,axis=0)), axis=1)\n",
    "    temp_1 = np.atleast_2d(temp_1)\n",
    "    temp_2 = np.atleast_2d(range_idx)\n",
    "    test_data = np.concatenate((temp_1,temp_2),axis=1)\n",
    "    #svm_result = clf.predict(test_data)\n",
    "    loaded_svm_model = pickle.load(open('SVM.sav' , 'rb'))\n",
    "    svm_result = loaded_svm_model.predict(test_data)\n",
    "    threshold = 2500 \n",
    "    plt.xlabel('Time (ms)')\n",
    "    plt.ylabel('Velocity Disturbance (Zero Mean)')\n",
    "    plt.title(\"Doppler FFT\")\n",
    "    plt.plot(np.mean(x_rdi,axis=0))\n",
    "    plt.show()\n",
    "    temp = np.mean(np.mean(x_rdi,axis=0), axis=1)\n",
    "    magnitude = np.linalg.norm(temp)\n",
    "    area_threshold = 1500\n",
    "    centers_threshold = 1500\n",
    "    no_of_circles = len(radii)\n",
    "    area_array = np.zeros((no_of_circles,1))\n",
    "    i = 0\n",
    "    for items in radii:  \n",
    "        area_array[i] = np.pi * items**2\n",
    "        i = i+1\n",
    "    circle_area_deviation = np.std(area_array)\n",
    "    circle_centers_deviation = np.std(centers)\n",
    "    deviation_threshold = 160\n",
    "    if (np.std(temp_1) < deviation_threshold and svm_result == 0 and magnitude < threshold and circle_area_deviation < area_threshold and circle_centers_deviation < centers_threshold):\n",
    "        return False\n",
    "    else:\n",
    "        return True"
   ]
  },
  {
   "cell_type": "code",
   "execution_count": 9,
   "id": "da5a5140-358b-42d6-9595-8620ce31fbae",
   "metadata": {},
   "outputs": [],
   "source": [
    "#Band Pass Filter for Heart Rate\n",
    "global low_pass_HR, high_pass_HR\n",
    "low_pass_HR = 0.8\n",
    "high_pass_HR = 2\n",
    "def heart_rate_signal(phases, low_pass_HR, high_pass_HR):\n",
    "    sos = scipy.signal.butter(6, [low_pass_HR/500, high_pass_HR/500], 'band', fs=1, output='sos')\n",
    "    filtered_HR = scipy.signal.sosfilt(sos,phases) \n",
    "    heart_rate_peaks, _ = scipy.signal.find_peaks(filtered_HR, prominence=[0.05,None]) #Peak Count for Heart Rate Calculation\n",
    "    return len(heart_rate_peaks)*60/5\n",
    "\n",
    "global low_pass_BR, high_pass_BR\n",
    "low_pass_BR = 0.2\n",
    "high_pass_BR = 0.5\n",
    "def breathing_rate_signal(phases, low_pass_BR, high_pass_BR):\n",
    "    #Band Pass Filter for Breathing Rate\n",
    "    sos = scipy.signal.butter(6, [low_pass_BR/500, high_pass_BR/500], 'band', fs=1, output='sos')\n",
    "    filtered_BR = scipy.signal.sosfilt(sos,phases)\n",
    "    breathing_rate_peaks, _ = scipy.signal.find_peaks(filtered_BR, prominence=[0.0005,None]) #Peak Count for Breathing Rate Calculation\n",
    "    return len(breathing_rate_peaks)*60/5"
   ]
  },
  {
   "cell_type": "markdown",
   "id": "6fe87368",
   "metadata": {},
   "source": [
    "Note: There is a function to get range_data called \"processing_rangeData\" which will be usefull to detect the movements."
   ]
  },
  {
   "cell_type": "code",
   "execution_count": 12,
   "id": "e8b382cd-0a71-4802-91f9-1aba51f82aa7",
   "metadata": {},
   "outputs": [
    {
     "data": {
      "image/png": "[encoded data removed]",
      "text/plain": [
       "<Figure size 432x288 with 1 Axes>"
      ]
     },
     "metadata": {
      "needs_background": "light"
     },
     "output_type": "display_data"
    },
    {
     "name": "stdout",
     "output_type": "stream",
     "text": [
      "Too Much Movement Detected. Measurement occurs only in Quasistatic State\n",
      "Vital Readings will be inaccurate\n"
     ]
    },
    {
     "data": {
      "image/png": "[encoded data removed]",
      "text/plain": [
       "<Figure size 432x288 with 1 Axes>"
      ]
     },
     "metadata": {
      "needs_background": "light"
     },
     "output_type": "display_data"
    },
    {
     "data": {
      "image/png": "[encoded data removed]",
      "text/plain": [
       "<Figure size 432x288 with 1 Axes>"
      ]
     },
     "metadata": {
      "needs_background": "light"
     },
     "output_type": "display_data"
    },
    {
     "name": "stdout",
     "output_type": "stream",
     "text": [
      "Heart Rate 60\n",
      "Breath Rate 24\n",
      "Rest\n"
     ]
    },
    {
     "name": "stderr",
     "output_type": "stream",
     "text": [
      "Failed to get frame from radar device. (Retry 1/3)\n",
      "Failed to get frame from radar device. (Retry 2/3)\n",
      "Failed to get frame from radar device. (Retry 3/3)\n"
     ]
    },
    {
     "ename": "TimeoutError",
     "evalue": "Failed to get frame from radar device.",
     "output_type": "error",
     "traceback": [
      "\u001b[1;31m---------------------------------------------------------------------------\u001b[0m",
      "\u001b[1;31mTimeoutError\u001b[0m                              Traceback (most recent call last)",
      "Input \u001b[1;32mIn [12]\u001b[0m, in \u001b[0;36m<module>\u001b[1;34m\u001b[0m\n\u001b[0;32m     25\u001b[0m \u001b[38;5;124;03m''' \u001b[39;00m\n\u001b[0;32m     26\u001b[0m \u001b[38;5;124;03md_t = 5\u001b[39;00m\n\u001b[0;32m     27\u001b[0m \u001b[38;5;124;03mconst_accel_process_noise_var = 0.13\u001b[39;00m\n\u001b[1;32m   (...)\u001b[0m\n\u001b[0;32m     38\u001b[0m \u001b[38;5;124;03mf.Q = Q_discrete_white_noise(dim=3, dt=d_t, var=const_accel_process_noise_var)\u001b[39;00m\n\u001b[0;32m     39\u001b[0m \u001b[38;5;124;03m'''\u001b[39;00m \n\u001b[0;32m     40\u001b[0m \u001b[38;5;28;01mwhile\u001b[39;00m \u001b[38;5;28;01mTrue\u001b[39;00m:\n\u001b[1;32m---> 41\u001b[0m     check_movement \u001b[38;5;241m=\u001b[39m \u001b[43mmotion_detection\u001b[49m\u001b[43m(\u001b[49m\u001b[43m)\u001b[49m\n\u001b[0;32m     42\u001b[0m     \u001b[38;5;28;01mif\u001b[39;00m check_movement \u001b[38;5;241m==\u001b[39m \u001b[38;5;28;01mTrue\u001b[39;00m:\n\u001b[0;32m     43\u001b[0m         \u001b[38;5;28mprint\u001b[39m(\u001b[38;5;124m'\u001b[39m\u001b[38;5;124mToo Much Movement Detected. Measurement occurs only in Quasistatic State\u001b[39m\u001b[38;5;124m'\u001b[39m)\n",
      "Input \u001b[1;32mIn [8]\u001b[0m, in \u001b[0;36mmotion_detection\u001b[1;34m()\u001b[0m\n\u001b[0;32m      5\u001b[0m \u001b[38;5;28;01mdef\u001b[39;00m \u001b[38;5;21mmotion_detection\u001b[39m():\n\u001b[0;32m      6\u001b[0m     \u001b[38;5;28;01mglobal\u001b[39;00m phases\n\u001b[1;32m----> 7\u001b[0m     phases, abses, data, raw_data, range_data, range_idx, centers, radii \u001b[38;5;241m=\u001b[39m \u001b[43mfetch_data\u001b[49m\u001b[43m(\u001b[49m\u001b[38;5;241;43m10000\u001b[39;49m\u001b[43m)\u001b[49m \u001b[38;5;66;03m#5000\u001b[39;00m\n\u001b[0;32m      9\u001b[0m     x_rdi \u001b[38;5;241m=\u001b[39m range_doppler_fft(data[:,:\u001b[38;5;241m5000\u001b[39m,:])\n\u001b[0;32m     10\u001b[0m     temp_1 \u001b[38;5;241m=\u001b[39m np\u001b[38;5;241m.\u001b[39msum(np\u001b[38;5;241m.\u001b[39mabs(np\u001b[38;5;241m.\u001b[39mmean(x_rdi,axis\u001b[38;5;241m=\u001b[39m\u001b[38;5;241m0\u001b[39m)), axis\u001b[38;5;241m=\u001b[39m\u001b[38;5;241m1\u001b[39m)\n",
      "Input \u001b[1;32mIn [3]\u001b[0m, in \u001b[0;36mfetch_data\u001b[1;34m(time_ms)\u001b[0m\n\u001b[0;32m      2\u001b[0m raw_data    \u001b[38;5;241m=\u001b[39m []\n\u001b[0;32m      3\u001b[0m \u001b[38;5;28;01mwith\u001b[39;00m RadarIfxAvian(config_file) \u001b[38;5;28;01mas\u001b[39;00m device:                             \u001b[38;5;66;03m# Initialize the radar with configurations\u001b[39;00m\n\u001b[1;32m----> 4\u001b[0m     \u001b[38;5;28;01mfor\u001b[39;00m i_frame, frame \u001b[38;5;129;01min\u001b[39;00m \u001b[38;5;28menumerate\u001b[39m(device):                           \u001b[38;5;66;03m# Loop through the frames coming from the radar\u001b[39;00m\n\u001b[0;32m      5\u001b[0m         raw_data\u001b[38;5;241m.\u001b[39mappend(np\u001b[38;5;241m.\u001b[39msqueeze(frame[\u001b[38;5;124m'\u001b[39m\u001b[38;5;124mradar\u001b[39m\u001b[38;5;124m'\u001b[39m]\u001b[38;5;241m.\u001b[39mdata\u001b[38;5;241m/\u001b[39m(\u001b[38;5;241m4095.0\u001b[39m)))      \u001b[38;5;66;03m# Dividing by 4095.0 to scale the data\u001b[39;00m\n\u001b[0;32m      7\u001b[0m         \u001b[38;5;28;01mif\u001b[39;00m(\u001b[38;5;28mlen\u001b[39m(raw_data) \u001b[38;5;241m>\u001b[39m time_ms\u001b[38;5;241m-\u001b[39m\u001b[38;5;241m1\u001b[39m \u001b[38;5;129;01mand\u001b[39;00m \u001b[38;5;28mlen\u001b[39m(raw_data) \u001b[38;5;241m%\u001b[39m time_ms \u001b[38;5;241m==\u001b[39m \u001b[38;5;241m0\u001b[39m):        \u001b[38;5;66;03m# 5000 is the number of frames. which corresponds to 5seconds\u001b[39;00m\n",
      "File \u001b[1;32m~\\AppData\\Local\\Programs\\Python\\Python39\\lib\\site-packages\\ifxdaq\\sensor\\abc.py:275\u001b[0m, in \u001b[0;36mSensorABC.__next__\u001b[1;34m(self)\u001b[0m\n\u001b[0;32m    274\u001b[0m \u001b[38;5;28;01mdef\u001b[39;00m \u001b[38;5;21m__next__\u001b[39m(\u001b[38;5;28mself\u001b[39m) \u001b[38;5;241m-\u001b[39m\u001b[38;5;241m>\u001b[39m Dict[\u001b[38;5;28mstr\u001b[39m, Optional[Frame]]:\n\u001b[1;32m--> 275\u001b[0m     \u001b[38;5;28;01mreturn\u001b[39;00m \u001b[38;5;28;43mself\u001b[39;49m\u001b[38;5;241;43m.\u001b[39;49m\u001b[43mdata\u001b[49m\n",
      "File \u001b[1;32m~\\AppData\\Local\\Programs\\Python\\Python39\\lib\\site-packages\\ifxdaq\\sensor\\abc.py:110\u001b[0m, in \u001b[0;36mSensorABC.data\u001b[1;34m(self)\u001b[0m\n\u001b[0;32m    107\u001b[0m \u001b[38;5;129m@property\u001b[39m\n\u001b[0;32m    108\u001b[0m \u001b[38;5;28;01mdef\u001b[39;00m \u001b[38;5;21mdata\u001b[39m(\u001b[38;5;28mself\u001b[39m) \u001b[38;5;241m-\u001b[39m\u001b[38;5;241m>\u001b[39m Dict[\u001b[38;5;28mstr\u001b[39m, Optional[Frame]]:\n\u001b[0;32m    109\u001b[0m     \u001b[38;5;124;03m\"\"\"Current data frame incl. timestamp.\"\"\"\u001b[39;00m\n\u001b[1;32m--> 110\u001b[0m     \u001b[38;5;28;01mreturn\u001b[39;00m \u001b[38;5;28;43mself\u001b[39;49m\u001b[38;5;241;43m.\u001b[39;49m\u001b[43m_get_data_from_device\u001b[49m\u001b[43m(\u001b[49m\u001b[43m)\u001b[49m\n",
      "File \u001b[1;32m~\\AppData\\Local\\Programs\\Python\\Python39\\lib\\site-packages\\ifxdaq\\sensor\\radar_ifx.py:211\u001b[0m, in \u001b[0;36mRadarIfxAvian._get_data_from_device\u001b[1;34m(self)\u001b[0m\n\u001b[0;32m    209\u001b[0m         \u001b[38;5;28;01mbreak\u001b[39;00m\n\u001b[0;32m    210\u001b[0m \u001b[38;5;28;01melse\u001b[39;00m:\n\u001b[1;32m--> 211\u001b[0m     \u001b[38;5;28;01mraise\u001b[39;00m \u001b[38;5;167;01mTimeoutError\u001b[39;00m(\u001b[38;5;124m\"\u001b[39m\u001b[38;5;124mFailed to get frame from radar device.\u001b[39m\u001b[38;5;124m\"\u001b[39m)\n\u001b[0;32m    213\u001b[0m \u001b[38;5;66;03m# De-normalize data, currently data is automatically normalized in RDK, but this will change in future\u001b[39;00m\n\u001b[0;32m    214\u001b[0m data \u001b[38;5;241m=\u001b[39m \u001b[38;5;241m4095\u001b[39m \u001b[38;5;241m*\u001b[39m data\n",
      "\u001b[1;31mTimeoutError\u001b[0m: Failed to get frame from radar device."
     ]
    }
   ],
   "source": [
    "#Kalman Filter State Estimation (Heart Rate)\n",
    "''' \n",
    "global prev_heart_rate_estimate\n",
    "prev_heart_rate_estimate = 0\n",
    "def read_sensor():\n",
    "    global prev_heart_rate_estimate\n",
    "    heart_rate_estimate = heart_rate_signal(phases, low_pass_HR, high_pass_HR)\n",
    "    estim_error_sq = (heart_rate_estimate - prev_heart_rate_estimate)**2\n",
    "    prev_heart_rate_estimate = heart_rate_estimate\n",
    "    return heart_rate_estimate, estim_error_sq\n",
    "\n",
    "def ellipsoidal_gating(z,y,P):\n",
    "    gating_threshold_low = [[210]]\n",
    "    gating_threshold_high = [[350]]\n",
    "    if gating_threshold_low < np.linalg.det((z-y) * np.linalg.inv(P) * (z-y)) < gating_threshold_high :\n",
    "        return True\n",
    "    else:\n",
    "        return False\n",
    "\n",
    "def update_bandpass_HR(x,P):\n",
    "    low_pass_HR = x[1] - P[0,0]**0.5\n",
    "    high_pass_HR = x[1] + P[0,0]**0.5\n",
    "    return None\n",
    "    ''' \n",
    "''' \n",
    "d_t = 5\n",
    "const_accel_process_noise_var = 0.13\n",
    "f = KalmanFilter (dim_x=3, dim_z=1)\n",
    "f.x = np.array([80., 0., 0.])                  #State: heart rate in Hertz, its first-order derivative, and second-order derivative\n",
    "f.F = np.array([[1.,d_t, 0.5*d_t**2],\n",
    "                [0.,1., d_t],\n",
    "                [0.,0.,1.]])                  #State Transtion Matrix\n",
    "f.H = np.array([[1.,0., 0.]])                 #Measurement Matrix\n",
    "f.P = np.array([[1000.,    0., 0.],\n",
    "                [   0., 1000., 0.],\n",
    "               [ 0., 0., 1000.]])             #Covariance Matrix\n",
    "f.R = np.array([[50.]])                       #Measurement Noise\n",
    "f.Q = Q_discrete_white_noise(dim=3, dt=d_t, var=const_accel_process_noise_var)\n",
    "''' \n",
    "while True:\n",
    "    check_movement = motion_detection()\n",
    "    if check_movement == True:\n",
    "        print('Too Much Movement Detected. Measurement occurs only in Quasistatic State')\n",
    "        print('Vital Readings will be inaccurate')\n",
    "    else:\n",
    "        print('Quasi-Static State Detected, Proceeding with Measurement')\n",
    "    \n",
    "    breathrate, heartrate = get_vitals(phases)\n",
    "    print('Heart Rate', heartrate)\n",
    "    print('Breath Rate', breathrate)\n",
    "    '''\n",
    "    f.z, f.h = read_sensor()\n",
    "    f.predict()\n",
    "    f.y = f.H @ f.x \n",
    "    check_quality = ellipsoidal_gating(f.z, f.y, f.P)\n",
    "    if check_quality == True:\n",
    "        f.x = f.update(f.z)\n",
    "        update_bandpass_HR(f.x,f.P)\n",
    "        \n",
    "     '''   \n",
    "    detect_state(phases)"
   ]
  },
  {
   "cell_type": "code",
   "execution_count": null,
   "id": "e2b2f7aa-2d17-483b-a867-58dc8b192d63",
   "metadata": {},
   "outputs": [],
   "source": []
  },
  {
   "cell_type": "code",
   "execution_count": null,
   "id": "50c6ddde-f126-4383-8856-3b02bc97a0ae",
   "metadata": {},
   "outputs": [],
   "source": []
  },
  {
   "cell_type": "code",
   "execution_count": null,
   "id": "04d32578-93e1-4841-b101-758eb3d6c690",
   "metadata": {},
   "outputs": [],
   "source": []
  }
 ],
 "metadata": {
  "kernelspec": {
   "display_name": "Python 3 (ipykernel)",
   "language": "python",
   "name": "python3"
  },
  "language_info": {
   "codemirror_mode": {
    "name": "ipython",
    "version": 3
   },
   "file_extension": ".py",
   "mimetype": "text/x-python",
   "name": "python",
   "nbconvert_exporter": "python",
   "pygments_lexer": "ipython3",
   "version": "3.9.9"
  }
 },
 "nbformat": 4,
 "nbformat_minor": 5
}
