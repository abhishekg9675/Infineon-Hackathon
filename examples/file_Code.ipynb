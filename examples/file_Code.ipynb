{
 "cells": [
  {
   "cell_type": "code",
   "execution_count": 1,
   "metadata": {
    "id": "M_FPvYXaKiE4"
   },
   "outputs": [],
   "source": [
    "\"\"\"importing libararies\"\"\"\n",
    "import pandas as pd\n",
    "import numpy as np\n",
    "import seaborn\n",
    "import matplotlib.pyplot as plt\n",
    "import sklearn\n",
    "from sklearn.preprocessing import StandardScaler \n",
    "import warnings\n",
    "import tensorflow as tf\n",
    "import pickle\n",
    "from sklearn.metrics import confusion_matrix, accuracy_score\n",
    "from keras.models import model_from_json\n",
    "import ifxdaq\n",
    "import processing\n",
    "from ifxdaq.sensor.radar_ifx import RadarIfxAvian\n",
    "from scipy import signal\n",
    "from scipy.signal import find_peaks\n",
    "warnings.filterwarnings('ignore')"
   ]
  },
  {
   "cell_type": "code",
   "execution_count": 2,
   "metadata": {
    "id": "Pv1qsFzbK0Nt"
   },
   "outputs": [],
   "source": [
    "def loading_model_parameters():\n",
    "  # loading the tranied model standard scaler parameters\n",
    "   scaler = pickle.load(open('scaler.pkl','rb'))    \n",
    "\n",
    "  # loading the tranied model PCA parameters\n",
    "   pca = pickle.load(open('pca_req.pkl','rb'))      \n",
    "\n",
    "  # loading the ann model parameters\n",
    "   file = open('model.json', 'r')\n",
    "   loaded  = file.read()\n",
    "   file.close()\n",
    "   ann_model = model_from_json(loaded)\n",
    "   ann_model.load_weights(\"model.h5\")\n",
    "\n",
    "   # loading the radar configurations\n",
    "   config_file = \"radar_configs/RadarIfxBGT60.json\"\n",
    "\n",
    "   return scaler, pca, ann_model\n"
   ]
  },
  {
   "cell_type": "code",
   "execution_count": null,
   "metadata": {
    "id": "UXVHVLpFMUzI"
   },
   "outputs": [],
   "source": [
    "def fetch_data(time_ms=10000):\n",
    "    raw_data    = []\n",
    "    with RadarIfxAvian(config_file) as device:                             # Initialize the radar with configurations\n",
    "        for i_frame, frame in enumerate(device):                           # Loop through the frames coming from the radar\n",
    "            raw_data.append(np.squeeze(frame['radar'].data/(4095.0)))      # Dividing by 4095.0 to scale the data\n",
    "            \n",
    "            if(len(raw_data) > time_ms-1 and len(raw_data) % time_ms == 0):        # 5000 is the number of frames. which corresponds to 5seconds\n",
    "                data = np.swapaxes(np.asarray(raw_data), 0, 1)\n",
    "                \n",
    "                phases, abses, centers, radii = processing.do_processing(data)       # preprocessing to get the phase information\n",
    "                range_idx, range_data = processing.processing_rangeData(data)        # to the get range_fft data\n",
    "\n",
    "                phases = np.mean(phases, axis=0)\n",
    "                break\n",
    "                \n",
    "    return phases, range_data"
   ]
  },
  {
   "cell_type": "code",
   "execution_count": null,
   "metadata": {
    "id": "wzq_t7erOIcE"
   },
   "outputs": [],
   "source": [
    "def detect_state(data):\n",
    "  '''checking the state of the person : Anxious and Rest'''\n",
    "  sc,pc,ann_model = loading_model_parameters()\n",
    "  scaled_data = sc.transform(data.T)\n",
    "  test_pca = pc.transform(scaled_data)\n",
    "  y_pred=ann_model.predict(test_pca)\n",
    "\n",
    "  if(y_pred>=0.5):\n",
    "    print(\"Anxious\")\n",
    "  else:\n",
    "    print(\"Rest\")\n",
    "\n",
    "  return None"
   ]
  },
  {
   "cell_type": "code",
   "execution_count": 3,
   "metadata": {
    "id": "SHlx564YQQ3t"
   },
   "outputs": [],
   "source": [
    "def get_vitals(phases_data):\n",
    "  displacement = (0.005/(4*np.pi))*phases_data\n",
    "\n",
    "  # band pass filter for breathrate\n",
    "  sos_b = signal.butter(6, (0.2/500,0.5/500), 'band', fs=1, output='sos')\n",
    "  filtered_b = signal.sosfilt(sos_b, displacement)\n",
    "\n",
    "  peaks_b,_= find_peaks(filtered_b, prominence=(0.0005, None))\n",
    "  numpeaks_b=len(peaks_b)\n",
    "  breathrate=numpeaks_b*6\n",
    "\n",
    "  # band pass filter for heartrate\n",
    "\n",
    "  sos_h = signal.butter(6, (0.5/500,2/500), 'band', fs=1, output='sos')\n",
    "  filtered_h = signal.sosfilt(sos_h, displacement)\n",
    "  peaks_h,_= find_peaks(filtered_h, prominence=(0.00020,None))\n",
    "  numpeaks_h=len(peaks_h)\n",
    "  heartrate=numpeaks_h*6\n",
    "  \n",
    "  return breathrate, heartrate"
   ]
  },
  {
   "cell_type": "code",
   "execution_count": null,
   "metadata": {
    "id": "KYSCxaXYRQ39"
   },
   "outputs": [],
   "source": []
  }
 ],
 "metadata": {
  "colab": {
   "name": "file_Code.ipynb",
   "provenance": []
  },
  "kernelspec": {
   "display_name": "Python 3 (ipykernel)",
   "language": "python",
   "name": "python3"
  },
  "language_info": {
   "codemirror_mode": {
    "name": "ipython",
    "version": 3
   },
   "file_extension": ".py",
   "mimetype": "text/x-python",
   "name": "python",
   "nbconvert_exporter": "python",
   "pygments_lexer": "ipython3",
   "version": "3.9.9"
  }
 },
 "nbformat": 4,
 "nbformat_minor": 4
}
